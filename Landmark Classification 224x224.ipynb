{
 "cells": [
  {
   "cell_type": "code",
   "execution_count": 46,
   "id": "aa1bbfbe-3700-4811-8285-aab234c2f92e",
   "metadata": {},
   "outputs": [],
   "source": [
    "import tensorflow as tf\n",
    "from tensorflow.keras import datasets, layers, models\n",
    "from sklearn.preprocessing import LabelEncoder\n",
    "from skimage.transform import resize\n",
    "from sklearn.model_selection import train_test_split\n",
    "\n",
    "from PIL import Image\n",
    "\n",
    "import matplotlib.pyplot as plt\n",
    "import pandas as pd\n",
    "import numpy as np\n",
    "\n",
    "import glob"
   ]
  },
  {
   "cell_type": "code",
   "execution_count": 31,
   "id": "864beaef-4ad9-41f9-94be-c11739008f35",
   "metadata": {},
   "outputs": [
    {
     "data": {
      "text/html": [
       "<div>\n",
       "<style scoped>\n",
       "    .dataframe tbody tr th:only-of-type {\n",
       "        vertical-align: middle;\n",
       "    }\n",
       "\n",
       "    .dataframe tbody tr th {\n",
       "        vertical-align: top;\n",
       "    }\n",
       "\n",
       "    .dataframe thead th {\n",
       "        text-align: right;\n",
       "    }\n",
       "</style>\n",
       "<table border=\"1\" class=\"dataframe\">\n",
       "  <thead>\n",
       "    <tr style=\"text-align: right;\">\n",
       "      <th></th>\n",
       "      <th>0</th>\n",
       "    </tr>\n",
       "  </thead>\n",
       "  <tbody>\n",
       "    <tr>\n",
       "      <th>0</th>\n",
       "      <td>data\\images\\11th Street Bridge, Tacoma, Washin...</td>\n",
       "    </tr>\n",
       "    <tr>\n",
       "      <th>1</th>\n",
       "      <td>data\\images\\11th Street Bridge, Tacoma, Washin...</td>\n",
       "    </tr>\n",
       "    <tr>\n",
       "      <th>2</th>\n",
       "      <td>data\\images\\11th Street Bridge, Tacoma, Washin...</td>\n",
       "    </tr>\n",
       "    <tr>\n",
       "      <th>3</th>\n",
       "      <td>data\\images\\11th Street Bridge, Tacoma, Washin...</td>\n",
       "    </tr>\n",
       "    <tr>\n",
       "      <th>4</th>\n",
       "      <td>data\\images\\11th Street Bridge, Tacoma, Washin...</td>\n",
       "    </tr>\n",
       "  </tbody>\n",
       "</table>\n",
       "</div>"
      ],
      "text/plain": [
       "                                                   0\n",
       "0  data\\images\\11th Street Bridge, Tacoma, Washin...\n",
       "1  data\\images\\11th Street Bridge, Tacoma, Washin...\n",
       "2  data\\images\\11th Street Bridge, Tacoma, Washin...\n",
       "3  data\\images\\11th Street Bridge, Tacoma, Washin...\n",
       "4  data\\images\\11th Street Bridge, Tacoma, Washin..."
      ]
     },
     "execution_count": 31,
     "metadata": {},
     "output_type": "execute_result"
    }
   ],
   "source": [
    "washington_data = pd.DataFrame([file for file in glob.iglob(\"data/**/*.jpg\", recursive=True)])\n",
    "\n",
    "washington_data = pd.DataFrame(washington_data[0])\n",
    "washington_data.head()"
   ]
  },
  {
   "cell_type": "code",
   "execution_count": 36,
   "id": "77e2c653-7303-49d8-acb8-405444b5ef87",
   "metadata": {},
   "outputs": [],
   "source": [
    "washington_data['image_data'] = washington_data[0].apply(lambda x : np.asarray(Image.open(x)) / 255)"
   ]
  },
  {
   "cell_type": "code",
   "execution_count": 39,
   "id": "71516787-4ee7-4644-8f3f-bd8a0188c8b5",
   "metadata": {},
   "outputs": [],
   "source": [
    "washington_data[[0, 1, 'name', 'image_id']] = washington_data[0].str.split(\"\\\\\", expand = True)"
   ]
  },
  {
   "cell_type": "code",
   "execution_count": 41,
   "id": "96341afc-3e88-4112-8884-d9f2d3258a1b",
   "metadata": {},
   "outputs": [],
   "source": [
    "washington_data_cleaned = washington_data[['name', 'image_id', 'image_data']]"
   ]
  },
  {
   "cell_type": "code",
   "execution_count": 42,
   "id": "c42be5c7-0570-43d1-b988-e348553fb650",
   "metadata": {},
   "outputs": [
    {
     "data": {
      "text/html": [
       "<div>\n",
       "<style scoped>\n",
       "    .dataframe tbody tr th:only-of-type {\n",
       "        vertical-align: middle;\n",
       "    }\n",
       "\n",
       "    .dataframe tbody tr th {\n",
       "        vertical-align: top;\n",
       "    }\n",
       "\n",
       "    .dataframe thead th {\n",
       "        text-align: right;\n",
       "    }\n",
       "</style>\n",
       "<table border=\"1\" class=\"dataframe\">\n",
       "  <thead>\n",
       "    <tr style=\"text-align: right;\">\n",
       "      <th></th>\n",
       "      <th>name</th>\n",
       "      <th>image_id</th>\n",
       "      <th>image_data</th>\n",
       "    </tr>\n",
       "  </thead>\n",
       "  <tbody>\n",
       "    <tr>\n",
       "      <th>0</th>\n",
       "      <td>11th Street Bridge, Tacoma, Washington</td>\n",
       "      <td>0447fbacd8534e5e.jpg</td>\n",
       "      <td>[[[0.44313725490196076, 0.4588235294117647, 0....</td>\n",
       "    </tr>\n",
       "    <tr>\n",
       "      <th>1</th>\n",
       "      <td>11th Street Bridge, Tacoma, Washington</td>\n",
       "      <td>0805c26baca7ad07.jpg</td>\n",
       "      <td>[[[0.7725490196078432, 0.7803921568627451, 0.7...</td>\n",
       "    </tr>\n",
       "    <tr>\n",
       "      <th>2</th>\n",
       "      <td>11th Street Bridge, Tacoma, Washington</td>\n",
       "      <td>3b5c52054d553033.jpg</td>\n",
       "      <td>[[[0.5019607843137255, 0.6235294117647059, 0.8...</td>\n",
       "    </tr>\n",
       "    <tr>\n",
       "      <th>3</th>\n",
       "      <td>11th Street Bridge, Tacoma, Washington</td>\n",
       "      <td>7910361ab975cd2f.jpg</td>\n",
       "      <td>[[[0.8196078431372549, 0.8823529411764706, 0.9...</td>\n",
       "    </tr>\n",
       "    <tr>\n",
       "      <th>4</th>\n",
       "      <td>11th Street Bridge, Tacoma, Washington</td>\n",
       "      <td>8eb51ab5811b2c98.jpg</td>\n",
       "      <td>[[[0.25882352941176473, 0.3411764705882353, 0....</td>\n",
       "    </tr>\n",
       "  </tbody>\n",
       "</table>\n",
       "</div>"
      ],
      "text/plain": [
       "                                     name              image_id  \\\n",
       "0  11th Street Bridge, Tacoma, Washington  0447fbacd8534e5e.jpg   \n",
       "1  11th Street Bridge, Tacoma, Washington  0805c26baca7ad07.jpg   \n",
       "2  11th Street Bridge, Tacoma, Washington  3b5c52054d553033.jpg   \n",
       "3  11th Street Bridge, Tacoma, Washington  7910361ab975cd2f.jpg   \n",
       "4  11th Street Bridge, Tacoma, Washington  8eb51ab5811b2c98.jpg   \n",
       "\n",
       "                                          image_data  \n",
       "0  [[[0.44313725490196076, 0.4588235294117647, 0....  \n",
       "1  [[[0.7725490196078432, 0.7803921568627451, 0.7...  \n",
       "2  [[[0.5019607843137255, 0.6235294117647059, 0.8...  \n",
       "3  [[[0.8196078431372549, 0.8823529411764706, 0.9...  \n",
       "4  [[[0.25882352941176473, 0.3411764705882353, 0....  "
      ]
     },
     "execution_count": 42,
     "metadata": {},
     "output_type": "execute_result"
    }
   ],
   "source": [
    "washington_data_cleaned.head()"
   ]
  },
  {
   "cell_type": "code",
   "execution_count": 43,
   "id": "d3b61cb9-d46c-4a07-bfa9-23ac3b969fe8",
   "metadata": {},
   "outputs": [],
   "source": [
    "# Initialize the LabelEncoder\n",
    "label_encoder = LabelEncoder()\n",
    "\n",
    "# Fit and transform the data\n",
    "labels = label_encoder.fit_transform(washington_data_cleaned['name'])"
   ]
  },
  {
   "cell_type": "code",
   "execution_count": 44,
   "id": "2d6fed62-1e9a-473d-a3bc-8e7adf3c181f",
   "metadata": {},
   "outputs": [],
   "source": [
    "washington_images_stack = np.stack(washington_data_cleaned['image_data'], axis=0)"
   ]
  },
  {
   "cell_type": "code",
   "execution_count": 48,
   "id": "56de2850-a5b4-4268-bc06-3f073682600c",
   "metadata": {},
   "outputs": [],
   "source": [
    "X_train, X_test, y_train, y_test = train_test_split(washington_images_stack, labels, test_size=0.1)"
   ]
  },
  {
   "cell_type": "code",
   "execution_count": 56,
   "id": "1c846ac7-ca58-4c72-807b-81edd824aa52",
   "metadata": {},
   "outputs": [],
   "source": [
    "model = models.Sequential()\n",
    "model.add(layers.Conv2D(32, (3, 3), activation='relu', input_shape=(224, 224, 3)))\n",
    "model.add(layers.MaxPooling2D((2, 2)))\n",
    "model.add(layers.Conv2D(64, (3, 3), activation='relu'))\n",
    "model.add(layers.MaxPooling2D((2, 2)))\n",
    "model.add(layers.Conv2D(128, (3, 3), activation='relu'))\n",
    "model.add(layers.MaxPooling2D((2, 2)))\n",
    "model.add(layers.Conv2D(128, (3, 3), activation='relu'))\n",
    "model.add(layers.MaxPooling2D((2, 2)))\n",
    "\n",
    "# Classifier\n",
    "model.add(layers.Flatten())\n",
    "model.add(layers.Dense(256, activation='relu'))\n",
    "model.add(layers.Dropout(0.5))  # Prevent overfitting\n",
    "model.add(layers.Dense(306))"
   ]
  },
  {
   "cell_type": "code",
   "execution_count": 57,
   "id": "1966a20b-da5d-4def-a5e4-dfe2a2d3bc4f",
   "metadata": {},
   "outputs": [
    {
     "name": "stdout",
     "output_type": "stream",
     "text": [
      "Epoch 1/25\n",
      "\u001b[1m139/139\u001b[0m \u001b[32m━━━━━━━━━━━━━━━━━━━━\u001b[0m\u001b[37m\u001b[0m \u001b[1m54s\u001b[0m 342ms/step - accuracy: 0.0924 - loss: 5.3034 - val_accuracy: 0.1484 - val_loss: 4.8125\n",
      "Epoch 2/25\n",
      "\u001b[1m139/139\u001b[0m \u001b[32m━━━━━━━━━━━━━━━━━━━━\u001b[0m\u001b[37m\u001b[0m \u001b[1m44s\u001b[0m 315ms/step - accuracy: 0.1286 - loss: 4.7469 - val_accuracy: 0.1423 - val_loss: 4.6483\n",
      "Epoch 3/25\n",
      "\u001b[1m139/139\u001b[0m \u001b[32m━━━━━━━━━━━━━━━━━━━━\u001b[0m\u001b[37m\u001b[0m \u001b[1m45s\u001b[0m 321ms/step - accuracy: 0.1636 - loss: 4.4971 - val_accuracy: 0.1789 - val_loss: 4.3520\n",
      "Epoch 4/25\n",
      "\u001b[1m139/139\u001b[0m \u001b[32m━━━━━━━━━━━━━━━━━━━━\u001b[0m\u001b[37m\u001b[0m \u001b[1m44s\u001b[0m 313ms/step - accuracy: 0.1864 - loss: 4.1812 - val_accuracy: 0.1829 - val_loss: 4.2088\n",
      "Epoch 5/25\n",
      "\u001b[1m139/139\u001b[0m \u001b[32m━━━━━━━━━━━━━━━━━━━━\u001b[0m\u001b[37m\u001b[0m \u001b[1m43s\u001b[0m 310ms/step - accuracy: 0.2030 - loss: 3.9877 - val_accuracy: 0.2236 - val_loss: 3.9805\n",
      "Epoch 6/25\n",
      "\u001b[1m139/139\u001b[0m \u001b[32m━━━━━━━━━━━━━━━━━━━━\u001b[0m\u001b[37m\u001b[0m \u001b[1m46s\u001b[0m 333ms/step - accuracy: 0.2468 - loss: 3.6878 - val_accuracy: 0.2520 - val_loss: 3.8541\n",
      "Epoch 7/25\n",
      "\u001b[1m139/139\u001b[0m \u001b[32m━━━━━━━━━━━━━━━━━━━━\u001b[0m\u001b[37m\u001b[0m \u001b[1m46s\u001b[0m 330ms/step - accuracy: 0.2736 - loss: 3.4337 - val_accuracy: 0.2398 - val_loss: 3.8147\n",
      "Epoch 8/25\n",
      "\u001b[1m139/139\u001b[0m \u001b[32m━━━━━━━━━━━━━━━━━━━━\u001b[0m\u001b[37m\u001b[0m \u001b[1m45s\u001b[0m 322ms/step - accuracy: 0.2876 - loss: 3.2623 - val_accuracy: 0.2724 - val_loss: 3.6449\n",
      "Epoch 9/25\n",
      "\u001b[1m139/139\u001b[0m \u001b[32m━━━━━━━━━━━━━━━━━━━━\u001b[0m\u001b[37m\u001b[0m \u001b[1m44s\u001b[0m 313ms/step - accuracy: 0.3404 - loss: 2.8902 - val_accuracy: 0.2967 - val_loss: 3.6247\n",
      "Epoch 10/25\n",
      "\u001b[1m139/139\u001b[0m \u001b[32m━━━━━━━━━━━━━━━━━━━━\u001b[0m\u001b[37m\u001b[0m \u001b[1m48s\u001b[0m 343ms/step - accuracy: 0.3917 - loss: 2.6291 - val_accuracy: 0.2866 - val_loss: 3.8392\n",
      "Epoch 11/25\n",
      "\u001b[1m139/139\u001b[0m \u001b[32m━━━━━━━━━━━━━━━━━━━━\u001b[0m\u001b[37m\u001b[0m \u001b[1m45s\u001b[0m 324ms/step - accuracy: 0.4149 - loss: 2.4104 - val_accuracy: 0.3211 - val_loss: 3.7275\n",
      "Epoch 12/25\n",
      "\u001b[1m139/139\u001b[0m \u001b[32m━━━━━━━━━━━━━━━━━━━━\u001b[0m\u001b[37m\u001b[0m \u001b[1m46s\u001b[0m 330ms/step - accuracy: 0.4776 - loss: 2.1267 - val_accuracy: 0.3415 - val_loss: 3.6466\n",
      "Epoch 13/25\n",
      "\u001b[1m139/139\u001b[0m \u001b[32m━━━━━━━━━━━━━━━━━━━━\u001b[0m\u001b[37m\u001b[0m \u001b[1m44s\u001b[0m 317ms/step - accuracy: 0.5123 - loss: 1.8988 - val_accuracy: 0.3293 - val_loss: 3.7676\n",
      "Epoch 14/25\n",
      "\u001b[1m139/139\u001b[0m \u001b[32m━━━━━━━━━━━━━━━━━━━━\u001b[0m\u001b[37m\u001b[0m \u001b[1m46s\u001b[0m 326ms/step - accuracy: 0.5477 - loss: 1.7535 - val_accuracy: 0.3415 - val_loss: 3.8012\n",
      "Epoch 15/25\n",
      "\u001b[1m139/139\u001b[0m \u001b[32m━━━━━━━━━━━━━━━━━━━━\u001b[0m\u001b[37m\u001b[0m \u001b[1m43s\u001b[0m 311ms/step - accuracy: 0.6107 - loss: 1.4980 - val_accuracy: 0.3354 - val_loss: 4.0818\n",
      "Epoch 16/25\n",
      "\u001b[1m139/139\u001b[0m \u001b[32m━━━━━━━━━━━━━━━━━━━━\u001b[0m\u001b[37m\u001b[0m \u001b[1m43s\u001b[0m 309ms/step - accuracy: 0.6311 - loss: 1.3289 - val_accuracy: 0.3232 - val_loss: 4.2159\n",
      "Epoch 17/25\n",
      "\u001b[1m139/139\u001b[0m \u001b[32m━━━━━━━━━━━━━━━━━━━━\u001b[0m\u001b[37m\u001b[0m \u001b[1m43s\u001b[0m 309ms/step - accuracy: 0.6577 - loss: 1.1831 - val_accuracy: 0.3394 - val_loss: 4.4496\n",
      "Epoch 18/25\n",
      "\u001b[1m139/139\u001b[0m \u001b[32m━━━━━━━━━━━━━━━━━━━━\u001b[0m\u001b[37m\u001b[0m \u001b[1m43s\u001b[0m 311ms/step - accuracy: 0.6764 - loss: 1.1295 - val_accuracy: 0.3476 - val_loss: 4.7297\n",
      "Epoch 19/25\n",
      "\u001b[1m139/139\u001b[0m \u001b[32m━━━━━━━━━━━━━━━━━━━━\u001b[0m\u001b[37m\u001b[0m \u001b[1m43s\u001b[0m 310ms/step - accuracy: 0.7198 - loss: 1.0074 - val_accuracy: 0.3089 - val_loss: 4.7572\n",
      "Epoch 20/25\n",
      "\u001b[1m139/139\u001b[0m \u001b[32m━━━━━━━━━━━━━━━━━━━━\u001b[0m\u001b[37m\u001b[0m \u001b[1m43s\u001b[0m 310ms/step - accuracy: 0.7500 - loss: 0.8580 - val_accuracy: 0.3333 - val_loss: 4.8619\n",
      "Epoch 21/25\n",
      "\u001b[1m139/139\u001b[0m \u001b[32m━━━━━━━━━━━━━━━━━━━━\u001b[0m\u001b[37m\u001b[0m \u001b[1m43s\u001b[0m 310ms/step - accuracy: 0.7475 - loss: 0.8766 - val_accuracy: 0.3435 - val_loss: 4.9437\n",
      "Epoch 22/25\n",
      "\u001b[1m139/139\u001b[0m \u001b[32m━━━━━━━━━━━━━━━━━━━━\u001b[0m\u001b[37m\u001b[0m \u001b[1m43s\u001b[0m 311ms/step - accuracy: 0.7686 - loss: 0.7743 - val_accuracy: 0.3293 - val_loss: 5.7962\n",
      "Epoch 23/25\n",
      "\u001b[1m139/139\u001b[0m \u001b[32m━━━━━━━━━━━━━━━━━━━━\u001b[0m\u001b[37m\u001b[0m \u001b[1m44s\u001b[0m 314ms/step - accuracy: 0.7718 - loss: 0.7698 - val_accuracy: 0.3557 - val_loss: 5.2482\n",
      "Epoch 24/25\n",
      "\u001b[1m139/139\u001b[0m \u001b[32m━━━━━━━━━━━━━━━━━━━━\u001b[0m\u001b[37m\u001b[0m \u001b[1m44s\u001b[0m 317ms/step - accuracy: 0.7976 - loss: 0.6980 - val_accuracy: 0.3659 - val_loss: 5.2879\n",
      "Epoch 25/25\n",
      "\u001b[1m139/139\u001b[0m \u001b[32m━━━━━━━━━━━━━━━━━━━━\u001b[0m\u001b[37m\u001b[0m \u001b[1m43s\u001b[0m 312ms/step - accuracy: 0.8115 - loss: 0.6427 - val_accuracy: 0.3232 - val_loss: 5.4701\n"
     ]
    }
   ],
   "source": [
    "model.compile(optimizer='adam',\n",
    "              loss=tf.keras.losses.SparseCategoricalCrossentropy(from_logits=True),\n",
    "              metrics=['accuracy'])\n",
    "\n",
    "history = model.fit(X_train, y_train, epochs=25, validation_data = (X_test, y_test))"
   ]
  },
  {
   "cell_type": "code",
   "execution_count": 58,
   "id": "425c6476-ffce-4a7e-9e5e-48140f9e1175",
   "metadata": {},
   "outputs": [
    {
     "name": "stdout",
     "output_type": "stream",
     "text": [
      "16/16 - 2s - 108ms/step - accuracy: 0.3232 - loss: 5.4701\n"
     ]
    },
    {
     "data": {
      "image/png": "[encoded data removed]",
      "text/plain": [
       "<Figure size 640x480 with 1 Axes>"
      ]
     },
     "metadata": {},
     "output_type": "display_data"
    }
   ],
   "source": [
    "plt.plot(history.history['accuracy'], label='accuracy')\n",
    "plt.plot(history.history['val_accuracy'], label = 'val_accuracy')\n",
    "plt.xlabel('Epoch')\n",
    "plt.ylabel('Accuracy')\n",
    "plt.legend(loc='lower right')\n",
    "\n",
    "history.history\n",
    "test_loss, test_acc = model.evaluate(X_test,  y_test, verbose=2)"
   ]
  }
 ],
 "metadata": {
  "kernelspec": {
   "display_name": "Python 3 (ipykernel)",
   "language": "python",
   "name": "python3"
  },
  "language_info": {
   "codemirror_mode": {
    "name": "ipython",
    "version": 3
   },
   "file_extension": ".py",
   "mimetype": "text/x-python",
   "name": "python",
   "nbconvert_exporter": "python",
   "pygments_lexer": "ipython3",
   "version": "3.12.1"
  }
 },
 "nbformat": 4,
 "nbformat_minor": 5
}
